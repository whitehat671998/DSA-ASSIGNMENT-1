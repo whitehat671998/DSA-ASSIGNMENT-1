{
 "cells": [
  {
   "cell_type": "code",
   "execution_count": 2,
   "id": "c97de6eb",
   "metadata": {},
   "outputs": [
    {
     "name": "stdout",
     "output_type": "stream",
     "text": [
      "Enter sum:0\n",
      "1:-1\n",
      " \n",
      " \n",
      " \n",
      " \n"
     ]
    }
   ],
   "source": [
    "li=[1,2,-1,2]\n",
    "\n",
    "def print_pair(sum,li):\n",
    "  for key,value in enumerate(li):\n",
    "    #print(key,value)\n",
    "    first_key_pair=value\n",
    "    second_key_pair=sum-first_key_pair\n",
    "\n",
    "    for item in li[key+1:]:\n",
    "      if(item == second_key_pair):\n",
    "        print(str(first_key_pair)+\":\"+str(item))\n",
    "\n",
    "    print(\" \")\n",
    "    \n",
    "sum=int(input('Enter sum:'))\n",
    "print_pair(sum,li)"
   ]
  },
  {
   "cell_type": "code",
   "execution_count": null,
   "id": "f0a3b414",
   "metadata": {},
   "outputs": [],
   "source": []
  }
 ],
 "metadata": {
  "kernelspec": {
   "display_name": "Python 3 (ipykernel)",
   "language": "python",
   "name": "python3"
  },
  "language_info": {
   "codemirror_mode": {
    "name": "ipython",
    "version": 3
   },
   "file_extension": ".py",
   "mimetype": "text/x-python",
   "name": "python",
   "nbconvert_exporter": "python",
   "pygments_lexer": "ipython3",
   "version": "3.9.12"
  }
 },
 "nbformat": 4,
 "nbformat_minor": 5
}
