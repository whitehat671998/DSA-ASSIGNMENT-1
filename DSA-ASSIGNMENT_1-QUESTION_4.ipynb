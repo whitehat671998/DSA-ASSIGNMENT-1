{
 "cells": [
  {
   "cell_type": "code",
   "execution_count": 1,
   "id": "fc69c759",
   "metadata": {},
   "outputs": [
    {
     "name": "stdout",
     "output_type": "stream",
     "text": [
      "Enter String:JGFHGCV\n",
      "First Non Repeated Letter:J\n"
     ]
    }
   ],
   "source": [
    "def check_first_non_repeated_letter(s1):\n",
    "  for key,letter in enumerate(s1):\n",
    "    is_present=False\n",
    "    for second_key,second_letter in enumerate(s1):\n",
    "      if(letter == second_letter and second_key != key):\n",
    "        is_present=True\n",
    "        break\n",
    "\n",
    "    if(is_present == False):\n",
    "      print(\"First Non Repeated Letter:\"+letter)\n",
    "      break\n",
    "        \n",
    "input_string=input(\"Enter String:\")\n",
    "\n",
    "check_first_non_repeated_letter(input_string)"
   ]
  },
  {
   "cell_type": "code",
   "execution_count": null,
   "id": "d53d2c02",
   "metadata": {},
   "outputs": [],
   "source": []
  }
 ],
 "metadata": {
  "kernelspec": {
   "display_name": "Python 3 (ipykernel)",
   "language": "python",
   "name": "python3"
  },
  "language_info": {
   "codemirror_mode": {
    "name": "ipython",
    "version": 3
   },
   "file_extension": ".py",
   "mimetype": "text/x-python",
   "name": "python",
   "nbconvert_exporter": "python",
   "pygments_lexer": "ipython3",
   "version": "3.9.12"
  }
 },
 "nbformat": 4,
 "nbformat_minor": 5
}
