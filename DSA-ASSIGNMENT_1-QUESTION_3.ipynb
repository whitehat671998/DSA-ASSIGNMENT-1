{
 "cells": [
  {
   "cell_type": "code",
   "execution_count": 1,
   "id": "312127c0",
   "metadata": {},
   "outputs": [
    {
     "name": "stdout",
     "output_type": "stream",
     "text": [
      "First String:HGFGFGHFGF\n",
      "Second String:BVFHCV\n",
      "HGFGFGHFGF BVFHCV\n",
      "False\n"
     ]
    }
   ],
   "source": [
    "def check_rotation_of_two_strings(s1,s2):\n",
    "  print(s1,s2)\n",
    "  first_letter_of_s1=s1[0]\n",
    "  position_in_s1=s2.find(first_letter_of_s1)\n",
    "  is_rotation=True\n",
    "  for letter in s1:\n",
    "    if(letter == s2[position_in_s1%len(s2)]):\n",
    "      position_in_s1+=1\n",
    "      continue\n",
    "    else:\n",
    "      is_rotation=False\n",
    "      \n",
    "  return is_rotation\n",
    "s1=input('First String:')\n",
    "s2=input('Second String:')\n",
    "\n",
    "is_rotation = check_rotation_of_two_strings(s1,s2)\n",
    "print(is_rotation)"
   ]
  },
  {
   "cell_type": "code",
   "execution_count": null,
   "id": "b01a669d",
   "metadata": {},
   "outputs": [],
   "source": []
  }
 ],
 "metadata": {
  "kernelspec": {
   "display_name": "Python 3 (ipykernel)",
   "language": "python",
   "name": "python3"
  },
  "language_info": {
   "codemirror_mode": {
    "name": "ipython",
    "version": 3
   },
   "file_extension": ".py",
   "mimetype": "text/x-python",
   "name": "python",
   "nbconvert_exporter": "python",
   "pygments_lexer": "ipython3",
   "version": "3.9.12"
  }
 },
 "nbformat": 4,
 "nbformat_minor": 5
}
