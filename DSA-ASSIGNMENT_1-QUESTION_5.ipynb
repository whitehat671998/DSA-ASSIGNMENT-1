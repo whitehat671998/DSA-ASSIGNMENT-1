{
 "cells": [
  {
   "cell_type": "code",
   "execution_count": 2,
   "id": "40a948fb",
   "metadata": {},
   "outputs": [
    {
     "name": "stdout",
     "output_type": "stream",
     "text": [
      "Enter the number of disks: 3\n",
      "Move disk 1 from rod A to rod C.\n",
      "Move disk 2 from rod A to rod B.\n",
      "Move disk 1 from rod C to rod B.\n",
      "Move disk 3 from rod A to rod C.\n",
      "Move disk 1 from rod B to rod A.\n",
      "Move disk 2 from rod B to rod C.\n",
      "Move disk 1 from rod A to rod C.\n"
     ]
    }
   ],
   "source": [
    "# Creating a recursive function  \n",
    "def tower_of_hanoi(disks, source, auxiliary, target):  \n",
    "    if(disks == 1):  \n",
    "        print('Move disk 1 from rod {} to rod {}.'.format(source, target))  \n",
    "        return  \n",
    "    # function call itself  \n",
    "    tower_of_hanoi(disks - 1, source, target, auxiliary)  \n",
    "    print('Move disk {} from rod {} to rod {}.'.format(disks, source, target))  \n",
    "    tower_of_hanoi(disks - 1, auxiliary, source, target)  \n",
    "  \n",
    "  \n",
    "disks = int(input('Enter the number of disks: '))  \n",
    "# We are referring source as A, auxiliary as B, and target as C  \n",
    "tower_of_hanoi(disks, 'A', 'B', 'C')  # Calling the function  "
   ]
  },
  {
   "cell_type": "code",
   "execution_count": null,
   "id": "ce1f77fe",
   "metadata": {},
   "outputs": [],
   "source": []
  }
 ],
 "metadata": {
  "kernelspec": {
   "display_name": "Python 3 (ipykernel)",
   "language": "python",
   "name": "python3"
  },
  "language_info": {
   "codemirror_mode": {
    "name": "ipython",
    "version": 3
   },
   "file_extension": ".py",
   "mimetype": "text/x-python",
   "name": "python",
   "nbconvert_exporter": "python",
   "pygments_lexer": "ipython3",
   "version": "3.9.12"
  }
 },
 "nbformat": 4,
 "nbformat_minor": 5
}
