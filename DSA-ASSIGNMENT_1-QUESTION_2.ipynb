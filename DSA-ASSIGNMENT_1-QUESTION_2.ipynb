{
 "cells": [
  {
   "cell_type": "code",
   "execution_count": 1,
   "id": "dd52a449",
   "metadata": {},
   "outputs": [
    {
     "name": "stdout",
     "output_type": "stream",
     "text": [
      "[4, 5, 4, 3, 2, 1]\n"
     ]
    }
   ],
   "source": [
    "li=[1,2,3,4,5,4]\n",
    "\n",
    "def reverse_list(li):\n",
    "  full_len=len(li)\n",
    "  half_len=(int)(full_len/2)\n",
    "\n",
    "  for i in range(half_len):\n",
    "    temp=li[i]\n",
    "    li[i]=li[full_len-1-i]\n",
    "    li[full_len-1-i]=temp\n",
    "\n",
    "  print(li)\n",
    "\n",
    "reverse_list(li)"
   ]
  },
  {
   "cell_type": "code",
   "execution_count": null,
   "id": "05486a52",
   "metadata": {},
   "outputs": [],
   "source": []
  }
 ],
 "metadata": {
  "kernelspec": {
   "display_name": "Python 3 (ipykernel)",
   "language": "python",
   "name": "python3"
  },
  "language_info": {
   "codemirror_mode": {
    "name": "ipython",
    "version": 3
   },
   "file_extension": ".py",
   "mimetype": "text/x-python",
   "name": "python",
   "nbconvert_exporter": "python",
   "pygments_lexer": "ipython3",
   "version": "3.9.12"
  }
 },
 "nbformat": 4,
 "nbformat_minor": 5
}
